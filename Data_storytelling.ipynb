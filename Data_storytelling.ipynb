{
 "cells": [
  {
   "cell_type": "markdown",
   "metadata": {},
   "source": [
    "### Analysis of TCGA gene expression dataset for clear cell renal carcinoma.\n",
    "\n",
    "The goals of this analysis include predicting lifestyle factors and metrics which increase the risk of cancer. The analytical methodology involves comparing two groups, patients with kidney cancer and healthy individuals. These two groups will be compared through an analysis of gene expression datasets taken from both tumor and healthy cells. \n",
    "\n",
    "Curating the data will involve conventional data wrangling techniques e.g. reading in and filtering the data as appropriate. Normalization and transformation of the data is not necessary because the dataset has already been normalized and log2 transformed. The overall goal of this approach is to find differences in both individual gene expression and coexpression between the two groups. \n",
    "\n",
    "The dataset in this case does not contain extensive feature data, beyond group identification (i.e. cancer or normal). Moreover, most packages specifically designed to perform differential expression and coexpression analysis were written for R as opposed to Python. While there are packages that allow developers to call R from Python (e.g. rpy2), this project will use Python exclusively, and packages designed for Python. \n",
    "\n",
    "### Differential Expression Analysis Workflow:\n",
    "\n",
    "1) Involves identifying genes whose expression levels change between two sample groups.\n",
    "\n",
    "2) To filter the genes, we look for an IQR > 0.5, or better, an IQR > 0.75.\n",
    "\n",
    "3) We can use maximum likelihood for dispersion estimation (which utilizes an empirical Bayesian approach).\n",
    "\n",
    "4) Filtering also requires establishing a floor for expression levels. For example, retain genes with an expression level above 3.5 in at least 25% of the samples.\n",
    "\n",
    "5) Differential expression compares means. With two sample groups, this will involve a t-test (e.g. Wilcoxon Rank Sum Test or negative binomial distribution).\n",
    "\n",
    "6) The  Mann-Whitney non-parametric t-test (also called the Wilcoxon Rank Sum Test) is a conservative choice. \n",
    "\n",
    "7) There are a variaty of statistical approaches to differential expression analysis, but the optomal choice is the exact test for negative binomial distribution. This test is available in the scipy.stats package.\n",
    "\n",
    "8) From a statistical point of view, for each gene we are testing the NULL hypothesis that there is no differential expression across the sample groups.\n",
    "\n",
    "\n",
    "### Coexpression Analysis Workflow\n",
    "1) Coexpression analysis seeks to infer gene networks.\n",
    "\n",
    "2) Hierarchical clustering on a correlation network is a conventional method used in packages such as WCGNA.\n",
    "\n",
    "### Functional Analysis\n",
    "1) We first generate a list of all differentially expressed genes.\n",
    "\n",
    "2) Next, we compare clustering results for both types of samples and look for differences in gene expression.\n",
    "\n",
    "3) Finally, the function of each gene will be investigated using a database such as NCBI Gene (https://www.ncbi.nlm.nih.gov/gene/). This can be done either directly if the number of genes is sufficiently small, or via web scraping (using a package such as Beautiful Soup or writing a function).\n"
   ]
  },
  {
   "cell_type": "code",
   "execution_count": null,
   "metadata": {},
   "outputs": [],
   "source": []
  }
 ],
 "metadata": {
  "kernelspec": {
   "display_name": "Python 3",
   "language": "python",
   "name": "python3"
  },
  "language_info": {
   "codemirror_mode": {
    "name": "ipython",
    "version": 3
   },
   "file_extension": ".py",
   "mimetype": "text/x-python",
   "name": "python",
   "nbconvert_exporter": "python",
   "pygments_lexer": "ipython3",
   "version": "3.6.5"
  }
 },
 "nbformat": 4,
 "nbformat_minor": 2
}
